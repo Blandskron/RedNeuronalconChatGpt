{
  "nbformat": 4,
  "nbformat_minor": 0,
  "metadata": {
    "colab": {
      "provenance": [],
      "authorship_tag": "ABX9TyPSMuEXhv02RA7uVoba1GWx",
      "include_colab_link": true
    },
    "kernelspec": {
      "name": "python3",
      "display_name": "Python 3"
    },
    "language_info": {
      "name": "python"
    }
  },
  "cells": [
    {
      "cell_type": "markdown",
      "metadata": {
        "id": "view-in-github",
        "colab_type": "text"
      },
      "source": [
        "<a href=\"https://colab.research.google.com/github/Blandskron/RedNeuronalconChatGpt/blob/main/RedNeuronalconChatGpt.ipynb\" target=\"_parent\"><img src=\"https://colab.research.google.com/assets/colab-badge.svg\" alt=\"Open In Colab\"/></a>"
      ]
    },
    {
      "cell_type": "markdown",
      "source": [
        "### **RedNeuronalconChatGpt**"
      ],
      "metadata": {
        "id": "RqRgGtK4v5W7"
      }
    },
    {
      "cell_type": "code",
      "execution_count": 1,
      "metadata": {
        "id": "j0Mm7wSAvcHL"
      },
      "outputs": [],
      "source": [
        "import numpy as np\n",
        "import matplotlib.pyplot as plt\n",
        "from sklearn.datasets import make_classification\n",
        "from sklearn.model_selection import train_test_split"
      ]
    },
    {
      "cell_type": "markdown",
      "source": [
        "**A continuación, vamos a generar algunos datos sintéticos utilizando el método make_classification de scikit-learn:**"
      ],
      "metadata": {
        "id": "gv4mQFLEwVAL"
      }
    },
    {
      "cell_type": "code",
      "source": [
        "X, y = make_classification(n_samples=1000, n_features=10, n_classes=2, random_state=123)"
      ],
      "metadata": {
        "id": "EpC1XzTFvplT"
      },
      "execution_count": 2,
      "outputs": []
    },
    {
      "cell_type": "markdown",
      "source": [
        "**Dividimos los datos en conjuntos de entrenamiento y prueba:**"
      ],
      "metadata": {
        "id": "247cBkPewZ8D"
      }
    },
    {
      "cell_type": "code",
      "source": [
        "X_train, X_test, y_train, y_test = train_test_split(X, y, test_size=0.2, random_state=123)"
      ],
      "metadata": {
        "id": "1cpUKZ9WvsX6"
      },
      "execution_count": 3,
      "outputs": []
    },
    {
      "cell_type": "markdown",
      "source": [
        "**Creamos una clase para nuestra red neuronal:**"
      ],
      "metadata": {
        "id": "L6PuT1mBwkgy"
      }
    },
    {
      "cell_type": "code",
      "source": [
        "class NeuralNetwork():\n",
        "\n",
        "  def __init__(self):\n",
        "    self.weights = np.random.rand(10)\n",
        "\n",
        "  def sigmoid(self, x):\n",
        "    return 1 / (1 + np.exp(-x))\n",
        "\n",
        "  def predict(self, X):\n",
        "    y_pred = np.dot(X, self.weights)\n",
        "    return self.sigmoid(y_pred)\n",
        "\n",
        "  def train(self, X, y, n_epochs=1000, lr=0.01):\n",
        "    for i in range(n_epochs):\n",
        "      y_pred = self.predict(X)\n",
        "      error = y - y_pred\n",
        "      self.weights += lr * np.dot(X.T, error)"
      ],
      "metadata": {
        "id": "QLnkLzy3vw1i"
      },
      "execution_count": 4,
      "outputs": []
    },
    {
      "cell_type": "markdown",
      "source": [
        "La clase NeuralNetwork tiene tres métodos: __init__, que inicializa los pesos aleatoriamente, sigmoid, que aplica la función de activación sigmoide a los datos de entrada, y train, que ajusta los pesos utilizando el método de descenso de gradiente.\n",
        "\n",
        "Por último, entrenamos la red neuronal y comprobamos su precisión en el conjunto de pruebas:"
      ],
      "metadata": {
        "id": "FrYe1-Ajwo-6"
      }
    },
    {
      "cell_type": "code",
      "source": [
        "nn = NeuralNetwork()\n",
        "nn.train(X_train, y_train)\n",
        "y_pred = nn.predict(X_test)\n",
        "y_pred = np.round(y_pred)\n",
        "accuracy = np.sum(y_pred == y_test) / len(y_test)\n",
        "print(\"Accuracy:\", accuracy)"
      ],
      "metadata": {
        "colab": {
          "base_uri": "https://localhost:8080/"
        },
        "id": "CsZA5Wk0v0DK",
        "outputId": "3c7e7c74-365d-437c-b72a-f96b0781165f"
      },
      "execution_count": 5,
      "outputs": [
        {
          "output_type": "stream",
          "name": "stdout",
          "text": [
            "Accuracy: 0.96\n"
          ]
        }
      ]
    }
  ]
}